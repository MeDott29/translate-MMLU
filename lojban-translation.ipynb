{
 "cells": [
  {
   "cell_type": "code",
   "execution_count": null,
   "metadata": {},
   "outputs": [],
   "source": [
    "import torch\n",
    "from transformers import MarianMTModel, MarianTokenizer\n",
    "\n",
    "# Load tokenizer and model\n",
    "model_name = \"woctordho/lojban-translation\"\n",
    "tokenizer = MarianTokenizer.from_pretrained(model_name)\n",
    "model = MarianMTModel.from_pretrained(model_name)\n",
    "\n",
    "# Enable GPU if available\n",
    "device = \"cuda\" if torch.cuda.is_available() else \"cpu\"\n",
    "model = model.to(device)\n",
    "print(f\"Using device: {device}\")\n",
    "\n",
    "def translate_to_lojban(text, max_length=100):\n",
    "    \"\"\"\n",
    "    Translate English text to Lojban using MarianMT\n",
    "    Args:\n",
    "        text (str): Input English text\n",
    "        max_length (int): Maximum length of generated translation\n",
    "    Returns:\n",
    "        str: Translated Lojban text\n",
    "    \"\"\"\n",
    "    # Prepare the input and move to the same device as the model\n",
    "    encoded = tokenizer(text, return_tensors=\"pt\", padding=True, truncation=True)\n",
    "    encoded = {k: v.to(device) for k, v in encoded.items()}  # Move all tensors to the correct device\n",
    "    \n",
    "    # Generate translation\n",
    "    with torch.no_grad():\n",
    "        outputs = model.generate(\n",
    "            **encoded,\n",
    "            max_length=max_length,\n",
    "            num_beams=5,\n",
    "            length_penalty=1.0,\n",
    "            early_stopping=True,\n",
    "            pad_token_id=tokenizer.pad_token_id,\n",
    "            eos_token_id=tokenizer.eos_token_id,\n",
    "        )\n",
    "    \n",
    "    # Move outputs back to CPU for decoding if necessary\n",
    "    outputs = outputs.cpu()\n",
    "    \n",
    "    # Decode the generated text\n",
    "    translated_text = tokenizer.decode(outputs[0], skip_special_tokens=True)\n",
    "    return translated_text\n",
    "\n",
    "# Test the translation\n",
    "test_text = \"Hello, how are you?\"\n",
    "print(f\"English: {test_text}\")\n",
    "translation = translate_to_lojban(test_text)\n",
    "print(f\"Lojban: {translation}\")"
   ]
  }
 ],
 "metadata": {
  "language_info": {
   "name": "python"
  }
 },
 "nbformat": 4,
 "nbformat_minor": 2
}
